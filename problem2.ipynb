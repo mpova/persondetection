{
 "cells": [
  {
   "cell_type": "code",
   "execution_count": 1,
   "metadata": {},
   "outputs": [],
   "source": [
    "import tensorflow as tf\n",
    "import cv2 as cv\n",
    "import numpy as np\n",
    "import matplotlib.pyplot as plt\n",
    "import os"
   ]
  },
  {
   "cell_type": "code",
   "execution_count": 2,
   "metadata": {},
   "outputs": [
    {
     "name": "stdout",
     "output_type": "stream",
     "text": [
      "the picture has: 5 persons\n"
     ]
    }
   ],
   "source": [
    "# Minimum probability to filter weak detections\n",
    "confidence_threshold = 0.5 \n",
    "\n",
    "# Threshold when applyong non-maxima suppression\n",
    "nms_threshold = 0.3 \n",
    "\n",
    "# Load the COCO class labels the YOLO model was trained on\n",
    "LABELS = open('model/coco.names').read().strip().split(\"\\n\")\n",
    "\n",
    "# Initialize a list of colors to represent each possible class label\n",
    "np.random.seed(42)\n",
    "COLORS = np.random.randint(0, 255, size=(len(LABELS), 3), dtype=\"uint8\")\n",
    "\n",
    "# Load our YOLO object detector trained on the COCO dataset (80 classes)\n",
    "net = cv.dnn.readNetFromDarknet('model/yolov3.cfg', 'model/yolov3.weights')\n",
    "\n",
    "# Determine only the *output* layer names that we need from YOLO\n",
    "ln = net.getLayerNames()\n",
    "ln = [ln[i - 1] for i in net.getUnconnectedOutLayers()]\n",
    "W = None\n",
    "H = None\n",
    "\n",
    "# Initialize the video stream\n",
    "\n",
    "\n",
    "vs = cv.VideoCapture('pic3.jpg')\n",
    "\n",
    "# Loop over frames from the video file stream\n",
    "while vs.isOpened():\n",
    "\t# Read the next frame from the file\n",
    "\t(grabbed, frame) = vs.read()\n",
    "\n",
    "\t# If grabbed=False, we have reached the end of the stream\n",
    "\tif not grabbed:\n",
    "\t\tbreak\n",
    "\n",
    "\tif W is None or H is None:\n",
    "\t\t(H, W) = frame.shape[:2]\n",
    "\tblob = cv.dnn.blobFromImage(frame, 1 / 255.0, (416, 416), swapRB=True, crop=False)\n",
    "\tnet.setInput(blob)\n",
    "\tlayerOutputs = net.forward(ln)\n",
    "\tboxes = []\n",
    "\tconfidences = []\n",
    "\tclassIDs = []\n",
    "\n",
    "\tfor output in layerOutputs:\n",
    "\t\tfor detection in output:\n",
    "\t\t\tscores = detection[5:]\n",
    "\t\t\tclassID = 0 #np.argmax(scores)\n",
    "\t\t\tconfidence = scores[classID]\n",
    "\n",
    "\t\t\tif confidence > confidence_threshold:\n",
    "\t\t\t\t\n",
    "\t\t\t\tbox = detection[0:4] * np.array([W, H, W, H])\n",
    "\t\t\t\t(centerX, centerY, width, height) = box.astype(\"int\")\n",
    "\n",
    "\t\t\t\tx = int(centerX - (width / 2))\n",
    "\t\t\t\ty = int(centerY - (height / 2))\n",
    "    \n",
    "\t\t\t\tboxes.append([x, y, int(width), int(height)])\n",
    "\t\t\t\tconfidences.append(float(confidence))\n",
    "\t\t\t\tclassIDs.append(classID)\n",
    "\t\t\t\tcount=0\n",
    "\tidxs = cv.dnn.NMSBoxes(boxes, confidences, confidence_threshold, nms_threshold)\n",
    " \n",
    "\tcount = 0\n",
    "\tif len(idxs) > 0:\n",
    "\t\tfor i in idxs.flatten():\n",
    "\t\t\t# Extract the bounding box coordinates\n",
    "\t\t\tcount += 1\n",
    "\t\t\t(x, y) = (boxes[i][0], boxes[i][1])\n",
    "\t\t\t(w, h) = (boxes[i][2], boxes[i][3])\n",
    "\n",
    "\t\t\t# Draw a bounding box rectangle and label on the frame\n",
    "\t\t\tcolor = (0,255, 0) #[int(c) for c in COLORS[classIDs[i]]]\n",
    "\t\t\tcv.rectangle(frame, (x, y), (x + w, y + h), color, 2)\n",
    "\t\t\t# text = \"{}: {:.2f}\".format(LABELS[classIDs[i]], confidences[i])\n",
    "\t\t\ttext = \"the picture has: {} persons\".format(count)\n",
    "\t\t\t# cv.putText(frame, text, (x, y - 5), cv.FONT_HERSHEY_SIMPLEX, 0.5, color, 2)\n",
    "\t\t\tcv.putText(frame, text, (10,20), cv.FONT_HERSHEY_COMPLEX_SMALL, 0.5, color, 2)\n",
    "   \n",
    "\n",
    "\t# show the output frame\n",
    "\tcv.imshow(\"Frame\", frame)\n",
    "\tkey = cv.waitKey(1) & 0xFF\n",
    "\tprint(f\"the picture has: {count} persons\")\n",
    "\t# if the `q` key was pressed, break from the loop\n",
    "\tif key == ord(\"q\"):\n",
    "\t\tbreak\n",
    "\n",
    "vs.release()\n",
    "# cv.destroyAllWindows()"
   ]
  }
 ],
 "metadata": {
  "kernelspec": {
   "display_name": "Python 3.9.7 ('base')",
   "language": "python",
   "name": "python3"
  },
  "language_info": {
   "codemirror_mode": {
    "name": "ipython",
    "version": 3
   },
   "file_extension": ".py",
   "mimetype": "text/x-python",
   "name": "python",
   "nbconvert_exporter": "python",
   "pygments_lexer": "ipython3",
   "version": "3.9.7"
  },
  "orig_nbformat": 4,
  "vscode": {
   "interpreter": {
    "hash": "935707eb769cc575b8f9baf72ecc5ed775609b28e870634296eef08d3c896533"
   }
  }
 },
 "nbformat": 4,
 "nbformat_minor": 2
}
